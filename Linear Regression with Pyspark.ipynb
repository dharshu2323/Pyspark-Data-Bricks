{
 "cells": [
  {
   "cell_type": "code",
   "execution_count": 0,
   "metadata": {
    "application/vnd.databricks.v1+cell": {
     "cellMetadata": {
      "byteLimit": 2048000,
      "rowLimit": 10000
     },
     "inputWidgets": {},
     "nuid": "ca5fc881-a9a4-4d53-8140-d22615fba115",
     "showTitle": false,
     "title": ""
    }
   },
   "outputs": [],
   "source": [
    "file_location =\"/FileStore/tables/tips.csv\"\n",
    "file_type=\"csv\"\n",
    "df=spark.read.csv(file_location,header=True,inferSchema=True)"
   ]
  },
  {
   "cell_type": "code",
   "execution_count": 0,
   "metadata": {
    "application/vnd.databricks.v1+cell": {
     "cellMetadata": {
      "byteLimit": 2048000,
      "rowLimit": 10000
     },
     "inputWidgets": {},
     "nuid": "c3a86ce6-8588-4609-a5a6-14f09d453c3b",
     "showTitle": false,
     "title": ""
    }
   },
   "outputs": [
    {
     "output_type": "stream",
     "name": "stdout",
     "output_type": "stream",
     "text": [
      "+----------+----+------+------+---+------+----+\n|total_bill| tip|   sex|smoker|day|  time|size|\n+----------+----+------+------+---+------+----+\n|     16.99|1.01|Female|    No|Sun|Dinner|   2|\n|     10.34|1.66|  Male|    No|Sun|Dinner|   3|\n|     21.01| 3.5|  Male|    No|Sun|Dinner|   3|\n|     23.68|3.31|  Male|    No|Sun|Dinner|   2|\n|     24.59|3.61|Female|    No|Sun|Dinner|   4|\n|     25.29|4.71|  Male|    No|Sun|Dinner|   4|\n|      8.77| 2.0|  Male|    No|Sun|Dinner|   2|\n|     26.88|3.12|  Male|    No|Sun|Dinner|   4|\n|     15.04|1.96|  Male|    No|Sun|Dinner|   2|\n|     14.78|3.23|  Male|    No|Sun|Dinner|   2|\n|     10.27|1.71|  Male|    No|Sun|Dinner|   2|\n|     35.26| 5.0|Female|    No|Sun|Dinner|   4|\n|     15.42|1.57|  Male|    No|Sun|Dinner|   2|\n|     18.43| 3.0|  Male|    No|Sun|Dinner|   4|\n|     14.83|3.02|Female|    No|Sun|Dinner|   2|\n|     21.58|3.92|  Male|    No|Sun|Dinner|   2|\n|     10.33|1.67|Female|    No|Sun|Dinner|   3|\n|     16.29|3.71|  Male|    No|Sun|Dinner|   3|\n|     16.97| 3.5|Female|    No|Sun|Dinner|   3|\n|     20.65|3.35|  Male|    No|Sat|Dinner|   3|\n+----------+----+------+------+---+------+----+\nonly showing top 20 rows\n\n"
     ]
    }
   ],
   "source": [
    "df.show()"
   ]
  },
  {
   "cell_type": "code",
   "execution_count": 0,
   "metadata": {
    "application/vnd.databricks.v1+cell": {
     "cellMetadata": {
      "byteLimit": 2048000,
      "rowLimit": 10000
     },
     "inputWidgets": {},
     "nuid": "8cf274ef-1597-4086-9594-1575a10bca55",
     "showTitle": false,
     "title": ""
    }
   },
   "outputs": [
    {
     "output_type": "stream",
     "name": "stdout",
     "output_type": "stream",
     "text": [
      "root\n |-- total_bill: double (nullable = true)\n |-- tip: double (nullable = true)\n |-- sex: string (nullable = true)\n |-- smoker: string (nullable = true)\n |-- day: string (nullable = true)\n |-- time: string (nullable = true)\n |-- size: integer (nullable = true)\n\n"
     ]
    }
   ],
   "source": [
    "df.printSchema()"
   ]
  },
  {
   "cell_type": "code",
   "execution_count": 0,
   "metadata": {
    "application/vnd.databricks.v1+cell": {
     "cellMetadata": {
      "byteLimit": 2048000,
      "rowLimit": 10000
     },
     "inputWidgets": {},
     "nuid": "bfaf7c78-d743-47fe-a143-0afa73fa0975",
     "showTitle": false,
     "title": ""
    }
   },
   "outputs": [
    {
     "output_type": "stream",
     "name": "stdout",
     "output_type": "stream",
     "text": [
      "Out[5]: ['total_bill', 'tip', 'sex', 'smoker', 'day', 'time', 'size']"
     ]
    }
   ],
   "source": [
    "df.columns"
   ]
  },
  {
   "cell_type": "code",
   "execution_count": 0,
   "metadata": {
    "application/vnd.databricks.v1+cell": {
     "cellMetadata": {
      "byteLimit": 2048000,
      "rowLimit": 10000
     },
     "inputWidgets": {},
     "nuid": "2300ace7-9113-4004-9941-92ba5c3753c5",
     "showTitle": false,
     "title": ""
    }
   },
   "outputs": [],
   "source": [
    "from pyspark.ml.feature import StringIndexer"
   ]
  },
  {
   "cell_type": "code",
   "execution_count": 0,
   "metadata": {
    "application/vnd.databricks.v1+cell": {
     "cellMetadata": {
      "byteLimit": 2048000,
      "rowLimit": 10000
     },
     "inputWidgets": {},
     "nuid": "c9589878-3811-4919-bb49-88878e076e78",
     "showTitle": false,
     "title": ""
    }
   },
   "outputs": [
    {
     "output_type": "stream",
     "name": "stdout",
     "output_type": "stream",
     "text": [
      "+----------+----+------+------+---+------+----+-----------+-------------+-----------+------------+\n|total_bill| tip|   sex|smoker|day|  time|size|sex_indexed|smoke_indexed|day_indexed|time_indexed|\n+----------+----+------+------+---+------+----+-----------+-------------+-----------+------------+\n|     16.99|1.01|Female|    No|Sun|Dinner|   2|        1.0|          0.0|        1.0|         0.0|\n|     10.34|1.66|  Male|    No|Sun|Dinner|   3|        0.0|          0.0|        1.0|         0.0|\n|     21.01| 3.5|  Male|    No|Sun|Dinner|   3|        0.0|          0.0|        1.0|         0.0|\n|     23.68|3.31|  Male|    No|Sun|Dinner|   2|        0.0|          0.0|        1.0|         0.0|\n|     24.59|3.61|Female|    No|Sun|Dinner|   4|        1.0|          0.0|        1.0|         0.0|\n|     25.29|4.71|  Male|    No|Sun|Dinner|   4|        0.0|          0.0|        1.0|         0.0|\n|      8.77| 2.0|  Male|    No|Sun|Dinner|   2|        0.0|          0.0|        1.0|         0.0|\n|     26.88|3.12|  Male|    No|Sun|Dinner|   4|        0.0|          0.0|        1.0|         0.0|\n|     15.04|1.96|  Male|    No|Sun|Dinner|   2|        0.0|          0.0|        1.0|         0.0|\n|     14.78|3.23|  Male|    No|Sun|Dinner|   2|        0.0|          0.0|        1.0|         0.0|\n|     10.27|1.71|  Male|    No|Sun|Dinner|   2|        0.0|          0.0|        1.0|         0.0|\n|     35.26| 5.0|Female|    No|Sun|Dinner|   4|        1.0|          0.0|        1.0|         0.0|\n|     15.42|1.57|  Male|    No|Sun|Dinner|   2|        0.0|          0.0|        1.0|         0.0|\n|     18.43| 3.0|  Male|    No|Sun|Dinner|   4|        0.0|          0.0|        1.0|         0.0|\n|     14.83|3.02|Female|    No|Sun|Dinner|   2|        1.0|          0.0|        1.0|         0.0|\n|     21.58|3.92|  Male|    No|Sun|Dinner|   2|        0.0|          0.0|        1.0|         0.0|\n|     10.33|1.67|Female|    No|Sun|Dinner|   3|        1.0|          0.0|        1.0|         0.0|\n|     16.29|3.71|  Male|    No|Sun|Dinner|   3|        0.0|          0.0|        1.0|         0.0|\n|     16.97| 3.5|Female|    No|Sun|Dinner|   3|        1.0|          0.0|        1.0|         0.0|\n|     20.65|3.35|  Male|    No|Sat|Dinner|   3|        0.0|          0.0|        0.0|         0.0|\n+----------+----+------+------+---+------+----+-----------+-------------+-----------+------------+\nonly showing top 20 rows\n\n"
     ]
    }
   ],
   "source": [
    "indexer=StringIndexer(inputCols=[\"sex\",\"smoker\",\"day\",\"time\"],outputCols=[\"sex_indexed\",\"smoke_indexed\",\"day_indexed\",\"time_indexed\"])\n",
    "df_r=indexer.fit(df).transform(df)\n",
    "df_r.show()"
   ]
  },
  {
   "cell_type": "code",
   "execution_count": 0,
   "metadata": {
    "application/vnd.databricks.v1+cell": {
     "cellMetadata": {
      "byteLimit": 2048000,
      "rowLimit": 10000
     },
     "inputWidgets": {},
     "nuid": "96b21834-eb16-451f-b37a-b96fd7d6d318",
     "showTitle": false,
     "title": ""
    }
   },
   "outputs": [
    {
     "output_type": "stream",
     "name": "stdout",
     "output_type": "stream",
     "text": [
      "Out[11]: ['total_bill',\n 'tip',\n 'sex',\n 'smoker',\n 'day',\n 'time',\n 'size',\n 'sex_indexed',\n 'smoke_indexed',\n 'day_indexed',\n 'time_indexed']"
     ]
    }
   ],
   "source": [
    "df_r.columns"
   ]
  },
  {
   "cell_type": "code",
   "execution_count": 0,
   "metadata": {
    "application/vnd.databricks.v1+cell": {
     "cellMetadata": {
      "byteLimit": 2048000,
      "rowLimit": 10000
     },
     "inputWidgets": {},
     "nuid": "da41bad1-9a7c-4f84-a239-2e8681074008",
     "showTitle": false,
     "title": ""
    }
   },
   "outputs": [],
   "source": [
    "from pyspark.ml.feature import VectorAssembler\n",
    "featureassembler=VectorAssembler(inputCols=[\"tip\",\"size\",\"sex_indexed\",\"smoke_indexed\",\"day_indexed\",\"time_indexed\"],outputCol=\"Independent Features\")\n",
    "output=featureassembler.transform(df_r)"
   ]
  },
  {
   "cell_type": "code",
   "execution_count": 0,
   "metadata": {
    "application/vnd.databricks.v1+cell": {
     "cellMetadata": {
      "byteLimit": 2048000,
      "rowLimit": 10000
     },
     "inputWidgets": {},
     "nuid": "4f355602-a060-4355-9365-6e6435134a89",
     "showTitle": false,
     "title": ""
    }
   },
   "outputs": [
    {
     "output_type": "stream",
     "name": "stdout",
     "output_type": "stream",
     "text": [
      "+--------------------+\n|Independent Features|\n+--------------------+\n|[1.01,2.0,1.0,0.0...|\n|[1.66,3.0,0.0,0.0...|\n|[3.5,3.0,0.0,0.0,...|\n|[3.31,2.0,0.0,0.0...|\n|[3.61,4.0,1.0,0.0...|\n|[4.71,4.0,0.0,0.0...|\n|[2.0,2.0,0.0,0.0,...|\n|[3.12,4.0,0.0,0.0...|\n|[1.96,2.0,0.0,0.0...|\n|[3.23,2.0,0.0,0.0...|\n|[1.71,2.0,0.0,0.0...|\n|[5.0,4.0,1.0,0.0,...|\n|[1.57,2.0,0.0,0.0...|\n|[3.0,4.0,0.0,0.0,...|\n|[3.02,2.0,1.0,0.0...|\n|[3.92,2.0,0.0,0.0...|\n|[1.67,3.0,1.0,0.0...|\n|[3.71,3.0,0.0,0.0...|\n|[3.5,3.0,1.0,0.0,...|\n|(6,[0,1],[3.35,3.0])|\n+--------------------+\nonly showing top 20 rows\n\n"
     ]
    }
   ],
   "source": [
    "output.select('Independent Features').show()"
   ]
  },
  {
   "cell_type": "code",
   "execution_count": 0,
   "metadata": {
    "application/vnd.databricks.v1+cell": {
     "cellMetadata": {
      "byteLimit": 2048000,
      "rowLimit": 10000
     },
     "inputWidgets": {},
     "nuid": "00590ae3-e004-4e93-b5c3-cc78e5fee6a9",
     "showTitle": false,
     "title": ""
    }
   },
   "outputs": [],
   "source": [
    "finalize_data=output.select(\"Independent Features\",\"total_bill\")"
   ]
  },
  {
   "cell_type": "code",
   "execution_count": 0,
   "metadata": {
    "application/vnd.databricks.v1+cell": {
     "cellMetadata": {
      "byteLimit": 2048000,
      "rowLimit": 10000
     },
     "inputWidgets": {},
     "nuid": "9d604054-d444-4207-a813-db8128c65f5d",
     "showTitle": false,
     "title": ""
    }
   },
   "outputs": [
    {
     "output_type": "stream",
     "name": "stdout",
     "output_type": "stream",
     "text": [
      "+--------------------+----------+\n|Independent Features|total_bill|\n+--------------------+----------+\n|[1.01,2.0,1.0,0.0...|     16.99|\n|[1.66,3.0,0.0,0.0...|     10.34|\n|[3.5,3.0,0.0,0.0,...|     21.01|\n|[3.31,2.0,0.0,0.0...|     23.68|\n|[3.61,4.0,1.0,0.0...|     24.59|\n|[4.71,4.0,0.0,0.0...|     25.29|\n|[2.0,2.0,0.0,0.0,...|      8.77|\n|[3.12,4.0,0.0,0.0...|     26.88|\n|[1.96,2.0,0.0,0.0...|     15.04|\n|[3.23,2.0,0.0,0.0...|     14.78|\n|[1.71,2.0,0.0,0.0...|     10.27|\n|[5.0,4.0,1.0,0.0,...|     35.26|\n|[1.57,2.0,0.0,0.0...|     15.42|\n|[3.0,4.0,0.0,0.0,...|     18.43|\n|[3.02,2.0,1.0,0.0...|     14.83|\n|[3.92,2.0,0.0,0.0...|     21.58|\n|[1.67,3.0,1.0,0.0...|     10.33|\n|[3.71,3.0,0.0,0.0...|     16.29|\n|[3.5,3.0,1.0,0.0,...|     16.97|\n|(6,[0,1],[3.35,3.0])|     20.65|\n+--------------------+----------+\nonly showing top 20 rows\n\n"
     ]
    }
   ],
   "source": [
    "finalize_data.show()"
   ]
  },
  {
   "cell_type": "code",
   "execution_count": 0,
   "metadata": {
    "application/vnd.databricks.v1+cell": {
     "cellMetadata": {
      "byteLimit": 2048000,
      "rowLimit": 10000
     },
     "inputWidgets": {},
     "nuid": "81b23c28-76b4-4dcd-9bf0-f80d89d88f34",
     "showTitle": false,
     "title": ""
    }
   },
   "outputs": [],
   "source": [
    "from pyspark.ml.regression import LinearRegression\n",
    "train_data,test_data=finalize_data.randomSplit([0.75,0.25])\n",
    "regressor=LinearRegression(featuresCol='Independent Features',labelCol='total_bill')\n",
    "regressor=regressor.fit(train_data)"
   ]
  },
  {
   "cell_type": "code",
   "execution_count": 0,
   "metadata": {
    "application/vnd.databricks.v1+cell": {
     "cellMetadata": {
      "byteLimit": 2048000,
      "rowLimit": 10000
     },
     "inputWidgets": {},
     "nuid": "4bf774f3-429b-42c4-aed7-ce6e9f254f52",
     "showTitle": false,
     "title": ""
    }
   },
   "outputs": [
    {
     "output_type": "stream",
     "name": "stdout",
     "output_type": "stream",
     "text": [
      "Out[22]: DenseVector([2.654, 3.7572, -1.3045, 2.4025, -0.2297, -1.1251])"
     ]
    }
   ],
   "source": [
    "regressor.coefficients"
   ]
  },
  {
   "cell_type": "code",
   "execution_count": 0,
   "metadata": {
    "application/vnd.databricks.v1+cell": {
     "cellMetadata": {
      "byteLimit": 2048000,
      "rowLimit": 10000
     },
     "inputWidgets": {},
     "nuid": "91f39c96-d26a-4d64-a6c1-85a7ed37a9ab",
     "showTitle": false,
     "title": ""
    }
   },
   "outputs": [
    {
     "output_type": "stream",
     "name": "stdout",
     "output_type": "stream",
     "text": [
      "Out[23]: 2.2783983683722435"
     ]
    }
   ],
   "source": [
    "regressor.intercept"
   ]
  },
  {
   "cell_type": "code",
   "execution_count": 0,
   "metadata": {
    "application/vnd.databricks.v1+cell": {
     "cellMetadata": {
      "byteLimit": 2048000,
      "rowLimit": 10000
     },
     "inputWidgets": {},
     "nuid": "57121c31-4252-4ef1-b1d9-9444c818a10e",
     "showTitle": false,
     "title": ""
    }
   },
   "outputs": [],
   "source": [
    "pred_result=regressor.evaluate(test_data)"
   ]
  },
  {
   "cell_type": "code",
   "execution_count": 0,
   "metadata": {
    "application/vnd.databricks.v1+cell": {
     "cellMetadata": {
      "byteLimit": 2048000,
      "rowLimit": 10000
     },
     "inputWidgets": {},
     "nuid": "b8b15ce4-6249-486c-9794-ca3c12189ac6",
     "showTitle": false,
     "title": ""
    }
   },
   "outputs": [
    {
     "output_type": "stream",
     "name": "stdout",
     "output_type": "stream",
     "text": [
      "+--------------------+----------+------------------+\n|Independent Features|total_bill|        prediction|\n+--------------------+----------+------------------+\n|(6,[0,1],[1.25,2.0])|     10.51|13.110397588273004|\n| (6,[0,1],[2.0,2.0])|     13.37|15.100920274812138|\n|(6,[0,1],[2.72,2.0])|     13.28|17.011822053889706|\n| (6,[0,1],[3.0,2.0])|      14.0|17.754950523530983|\n|(6,[0,1],[3.15,3.0])|     20.08| 21.91028576533991|\n|(6,[0,1],[3.35,3.0])|     20.65| 22.44109181508368|\n|(6,[0,1],[3.39,2.0])|     11.61| 18.79002232053133|\n| (6,[0,1],[4.3,2.0])|      21.7| 21.20518984686548|\n| (6,[0,1],[5.0,3.0])|     31.27| 26.82024172546977|\n|(6,[0,1],[6.73,4.0])|     48.27|35.168944760254476|\n|[1.0,1.0,1.0,1.0,...|      3.07| 9.787683240578232|\n|[1.01,2.0,1.0,0.0...|     16.99|10.939245088144563|\n|[1.1,2.0,1.0,1.0,...|      12.9| 13.81031696995122|\n|[1.32,2.0,0.0,0.0...|      9.68|13.066490598607425|\n|[1.44,2.0,0.0,1.0...|      7.74|16.017183387875647|\n|[1.48,2.0,0.0,0.0...|      8.52|12.136385475763625|\n|[1.5,2.0,0.0,0.0,...|     19.08|12.189466080738002|\n|[1.58,2.0,0.0,1.0...|     13.42|14.574619445905673|\n|[1.83,1.0,1.0,0.0...|     10.07| 8.003569224954097|\n|[1.98,2.0,0.0,1.0...|     11.02|17.450359722183823|\n+--------------------+----------+------------------+\nonly showing top 20 rows\n\n"
     ]
    }
   ],
   "source": [
    "pred_result.predictions.show()"
   ]
  },
  {
   "cell_type": "code",
   "execution_count": 0,
   "metadata": {
    "application/vnd.databricks.v1+cell": {
     "cellMetadata": {
      "byteLimit": 2048000,
      "rowLimit": 10000
     },
     "inputWidgets": {},
     "nuid": "2219b4c8-737d-4141-a7c3-8e9617102c0d",
     "showTitle": false,
     "title": ""
    }
   },
   "outputs": [
    {
     "output_type": "stream",
     "name": "stdout",
     "output_type": "stream",
     "text": [
      "Out[27]: <bound method JavaPredictionModel.predict of LinearRegressionModel: uid=LinearRegression_8b0c96554f64, numFeatures=6>"
     ]
    }
   ],
   "source": [
    "regressor.predict"
   ]
  },
  {
   "cell_type": "code",
   "execution_count": 0,
   "metadata": {
    "application/vnd.databricks.v1+cell": {
     "cellMetadata": {
      "byteLimit": 2048000,
      "rowLimit": 10000
     },
     "inputWidgets": {},
     "nuid": "8fe9ae19-a896-4905-968b-18d2af1a417e",
     "showTitle": false,
     "title": ""
    }
   },
   "outputs": [
    {
     "output_type": "stream",
     "name": "stdout",
     "output_type": "stream",
     "text": [
      "Out[28]: 0.70961947262968"
     ]
    }
   ],
   "source": [
    "pred_result.r2"
   ]
  },
  {
   "cell_type": "code",
   "execution_count": 0,
   "metadata": {
    "application/vnd.databricks.v1+cell": {
     "cellMetadata": {
      "byteLimit": 2048000,
      "rowLimit": 10000
     },
     "inputWidgets": {},
     "nuid": "80f9a7aa-72ee-48e2-9933-83511f0c6c5f",
     "showTitle": false,
     "title": ""
    }
   },
   "outputs": [
    {
     "output_type": "stream",
     "name": "stdout",
     "output_type": "stream",
     "text": [
      "Out[29]: (4.237356001012154, 26.99478983354572, 5.195651050017285)"
     ]
    }
   ],
   "source": [
    "pred_result.meanAbsoluteError,pred_result.meanSquaredError,pred_result.rootMeanSquaredError"
   ]
  },
  {
   "cell_type": "code",
   "execution_count": 0,
   "metadata": {
    "application/vnd.databricks.v1+cell": {
     "cellMetadata": {},
     "inputWidgets": {},
     "nuid": "f5b0955b-a695-4e51-816a-dc9b4ae8a73f",
     "showTitle": false,
     "title": ""
    }
   },
   "outputs": [],
   "source": []
  }
 ],
 "metadata": {
  "application/vnd.databricks.v1+notebook": {
   "dashboards": [],
   "environmentMetadata": null,
   "language": "python",
   "notebookMetadata": {
    "pythonIndentUnit": 4
   },
   "notebookName": "Linear Regression with Pyspark",
   "widgets": {}
  }
 },
 "nbformat": 4,
 "nbformat_minor": 0
}
